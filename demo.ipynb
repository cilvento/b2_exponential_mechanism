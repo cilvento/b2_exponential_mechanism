{
  "nbformat": 4,
  "nbformat_minor": 0,
  "metadata": {
    "colab": {
      "name": "exponential_mechanism_demo.ipynb",
      "provenance": [],
      "collapsed_sections": []
    },
    "kernelspec": {
      "name": "python3",
      "display_name": "Python 3"
    }
  },
  "cells": [
    {
      "cell_type": "markdown",
      "metadata": {
        "id": "0w-FOE-MhU1d",
        "colab_type": "text"
      },
      "source": [
        "# The Base-2 Exponential Mechanism\n",
        "\n",
        "*author: cilvento*\n",
        "\n",
        "***Abstract***\n",
        "\n",
        "Despite excellent theoretical support, Differential Privacy (DP) can still be a challenge to implement in practice. In part, this challenge is due to the concerns associated with converting arbitrary or infinite-precision theoretical mechanisms to the reality of floating point or fixed-precision. Beginning with the troubling [result](https://www.microsoft.com/en-us/research/wp-content/uploads/2012/10/lsbs.pdf) of Mironov demonstrating the security issues of using floating point for implementing the Laplace mechanism, there have been many reasonable concerns raised on the vulnerabilities of real-world implementations of DP.\n",
        "\n",
        "In this work, we examine the practical implementation of the [exponential mechanism](https://www.microsoft.com/en-us/research/wp-content/uploads/2016/02/mdviadp.pdf) of McSherry and Talwar. (The exponential mechanism can be used to express any DP mechanism, although this is not always the most computationally efficient approach.) We demonstrate that naive or malicious implementations can result in catastrophic privacy failures. To address these problems, we show that the mechanism can be implemented *exactly* for a rich set of values of the privacy parameter $\\varepsilon$ and utility functions with limited practical overhead in running time and minimal code complexity. \n",
        "\n",
        "How do we achieve this result? We employ a simple trick of switching from base $e$ to base $2$, allowing us to perform precise base 2 arithmetic only converting back to base $e$ to report the *value* of the privacy parameter. A short precise expression is always available for $\\varepsilon$, and the only approximation error we incur is the conversion of the base 2 privacy parameter back to base $e$. The core base 2 arithmetic of the mechanism can be simply and efficiently implemented using open-source high precision floating point libraries. Furthermore, the exact nature of the implementation lends itself to simple monitoring of correctness and proofs of privacy.\n",
        "\n",
        "In this notebook, we demonstrate the base 2 exponential mechanism and vulnerabilities of naive implementations of the exponential mechanism. We also compare running times and mean-squared error of an implementation of the Laplace mechanism using the base 2 exponential mechanism implementation.\n",
        "\n",
        "## Differential Privacy Background\n",
        "Differential privacy requires that the outputs of mechanisms operating on private data are stable. That is, they cannot change ``too much'' if a single entry in the input database is changed. A key strength of DP is that it doesn't apply to a single mechanism: any randomized mechanism satisfying the stability requirement is differentially private. \n",
        "We give the formal definition below.\n",
        "\n",
        "**Pure Differential Privacy**:\n",
        "A randomized mechanism $\\mathcal{M}$ is $\\varepsilon-$differentially private if for all adjacent databases $d\\sim d'$, i.e. databases which differ in a single entry,\n",
        "$\\Pr[\\mathcal{M}(d) \\in C] \\leq e^{\\varepsilon}\\Pr[\\mathcal{M}(d') \\in C]$\n",
        "where probability is taken over the randomness of the mechanism $\\mathcal{M}$.\n",
        "\n",
        "\n",
        "### Known issues with additive noise DP mechanisms\n",
        "One of the most popular DP mechanisms is the Laplace mechanism, which adds noise drawn from the Laplace distribution scaled to the sensitivity of a function, i.e., how much it can change if a single individual's value changes.\n",
        "\n",
        "**The Laplace Mechanism**:\n",
        "Given a function $f:D \\rightarrow \\mathbb{R}$ with sensitivity $\\Delta f:= \\max_{d\\sim d' \\in D}|f(d)-f(d')|$, a privacy parameter $\\varepsilon$ and a database $d$, release $f(d)+\\tau$ where $\\tau$ is drawn\n",
        "from the sensitivity scaled Laplace distribution, given by probability density $\\mathsf{Lap(t|\\frac{\\Delta f}{\\varepsilon})}=\\frac{\\varepsilon}{2\\Delta f}e^{-\\frac{\\varepsilon |t|}{\\Delta f }}$.\n",
        "The Laplace Mechanism is $\\varepsilon-$DP.\n",
        "\n",
        "Unfortunately, sampling from the Laplace distribution using floating point arithmetic leads to \"gaps\" in the possible noise values, which, in the right circumstances, can allow an adversary to exactly guess the original value of $f(d)$ from $f(d) + \\tau$. Fortunately, there are methods to mitigate this attack by \"clamping\" the value of $f(d)+\\tau$ to prevent gaps, although they require careful implementation.\n",
        "\n",
        "### The Exponential Mechanism\n",
        "The [exponential mechanism](https://www.microsoft.com/en-us/research/wp-content/uploads/2016/02/mdviadp.pdf), proposed by McSherry and Talwar, is a general purpose DP mechanism for releasing arbitrary strings, values or other outputs. For example, suppose a company is trying to set a price for a new piece of software. To set the price, they ask a set of potential buyers the price they are willing to pay, and they promise to keep the prices reported by each potential buyer private and to only release a DP estimate of the optimal price.\n",
        "The company now has a problem: computing the optimal price and then adding noise may result in a price that \\textit{zero} buyers are willing to pay. For example, if all buyers are willing to pay at most $\\$10$, setting a price of $\\$10.50$ will result in zero sales.\n",
        "The exponential mechanism handles this problem in an elegant way by assigning a utility score (potential profit) based on the database (the maximum prices) to each potential outcome (each price in a pre-determined range) and then sampling a single outcome based on the utility scores. Using this mechanism, the price of $\\$10$ would have very high utility and thus a high probability of selection, whereas any price over $\\$10$ would have low utility and probability of selection. In fact, any DP mechanism can be expressed using the exponential mechanism with an appropriately chosen utility function.\n",
        "\n",
        "**The Exponential Mechanism**:\n",
        "Given a privacy parameter $\\varepsilon$, an outcome set $O$ and a utility function $u: D \\times O \\rightarrow \\mathbb{R}$ which maps (database, outcome) pairs to a real-valued utility, the exponential mechanism samples a single element from $O$ based on the probability distribution\n",
        "$p(o) := \\frac{e^{-\\varepsilon u(d, o)}}{\\sum_{o \\in O} e^{-\\varepsilon u(d,o)}}$\n",
        "If the sensitivity of $u$, $\\Delta u := |u(d,o)-u(d',o)| \\leq \\alpha$ for all adjacent $d,d'$ and for all $o \\in O$, then the exponential mechanism is $2\\alpha\\varepsilon$-DP. \n",
        "\n",
        "An initial examination of the exponential mechanism might lead one to imagine that it is immune to the floating point issues of the Laplace mechanism, as no floating point calculation is released directly and the computations of $e^x$ shouldn't have \"too much\" error. However, we will see below that naive implementations of the exponential mechanism are vulnerable to floating-point based attacks.\n",
        "\n"
      ]
    },
    {
      "cell_type": "markdown",
      "metadata": {
        "id": "-Lu2RUSPhopA",
        "colab_type": "text"
      },
      "source": [
        "### Setup\n",
        "We rely on GNU Multiple Precision Arithmetic Library ([GMP](https://gmplib.org/) via the [`gmpy2`](https://github.com/aleaxit/gmpy) Python interface for high precision arithmetic and exact arithmetic monitoring in our implementation, as well as some standard libraries (`numpy`, etc).\n",
        "\n",
        "* Install any libraries needed (gmpy2, etc)\n",
        "* Standard imports"
      ]
    },
    {
      "cell_type": "code",
      "metadata": {
        "id": "MWrA9IWLhqzr",
        "colab_type": "code",
        "outputId": "9d27dbaf-391d-461c-c181-a5ecaadec04d",
        "colab": {
          "base_uri": "https://localhost:8080/",
          "height": 1000
        }
      },
      "source": [
        "!apt-get install libgmp-dev\n",
        "!apt-get install libmpfr-dev\n",
        "!apt-get install libmpc-dev\n",
        "!pip install gmpy2"
      ],
      "execution_count": 0,
      "outputs": [
        {
          "output_type": "stream",
          "text": [
            "Reading package lists... Done\n",
            "Building dependency tree       \n",
            "Reading state information... Done\n",
            "The following additional packages will be installed:\n",
            "  libgmpxx4ldbl\n",
            "Suggested packages:\n",
            "  gmp-doc libgmp10-doc libmpfr-dev\n",
            "The following NEW packages will be installed:\n",
            "  libgmp-dev libgmpxx4ldbl\n",
            "0 upgraded, 2 newly installed, 0 to remove and 8 not upgraded.\n",
            "Need to get 325 kB of archives.\n",
            "After this operation, 1,667 kB of additional disk space will be used.\n",
            "Get:1 http://archive.ubuntu.com/ubuntu bionic/main amd64 libgmpxx4ldbl amd64 2:6.1.2+dfsg-2 [8,964 B]\n",
            "Get:2 http://archive.ubuntu.com/ubuntu bionic/main amd64 libgmp-dev amd64 2:6.1.2+dfsg-2 [316 kB]\n",
            "Fetched 325 kB in 1s (258 kB/s)\n",
            "Selecting previously unselected package libgmpxx4ldbl:amd64.\n",
            "(Reading database ... 131183 files and directories currently installed.)\n",
            "Preparing to unpack .../libgmpxx4ldbl_2%3a6.1.2+dfsg-2_amd64.deb ...\n",
            "Unpacking libgmpxx4ldbl:amd64 (2:6.1.2+dfsg-2) ...\n",
            "Selecting previously unselected package libgmp-dev:amd64.\n",
            "Preparing to unpack .../libgmp-dev_2%3a6.1.2+dfsg-2_amd64.deb ...\n",
            "Unpacking libgmp-dev:amd64 (2:6.1.2+dfsg-2) ...\n",
            "Processing triggers for libc-bin (2.27-3ubuntu1) ...\n",
            "Setting up libgmpxx4ldbl:amd64 (2:6.1.2+dfsg-2) ...\n",
            "Setting up libgmp-dev:amd64 (2:6.1.2+dfsg-2) ...\n",
            "Processing triggers for libc-bin (2.27-3ubuntu1) ...\n",
            "Reading package lists... Done\n",
            "Building dependency tree       \n",
            "Reading state information... Done\n",
            "Suggested packages:\n",
            "  libmpfr-doc\n",
            "The following NEW packages will be installed:\n",
            "  libmpfr-dev\n",
            "0 upgraded, 1 newly installed, 0 to remove and 8 not upgraded.\n",
            "Need to get 249 kB of archives.\n",
            "After this operation, 1,232 kB of additional disk space will be used.\n",
            "Get:1 http://archive.ubuntu.com/ubuntu bionic/main amd64 libmpfr-dev amd64 4.0.1-1 [249 kB]\n",
            "Fetched 249 kB in 1s (290 kB/s)\n",
            "Selecting previously unselected package libmpfr-dev:amd64.\n",
            "(Reading database ... 131201 files and directories currently installed.)\n",
            "Preparing to unpack .../libmpfr-dev_4.0.1-1_amd64.deb ...\n",
            "Unpacking libmpfr-dev:amd64 (4.0.1-1) ...\n",
            "Setting up libmpfr-dev:amd64 (4.0.1-1) ...\n",
            "Reading package lists... Done\n",
            "Building dependency tree       \n",
            "Reading state information... Done\n",
            "The following NEW packages will be installed:\n",
            "  libmpc-dev\n",
            "0 upgraded, 1 newly installed, 0 to remove and 8 not upgraded.\n",
            "Need to get 50.5 kB of archives.\n",
            "After this operation, 280 kB of additional disk space will be used.\n",
            "Get:1 http://archive.ubuntu.com/ubuntu bionic/main amd64 libmpc-dev amd64 1.1.0-1 [50.5 kB]\n",
            "Fetched 50.5 kB in 1s (88.5 kB/s)\n",
            "Selecting previously unselected package libmpc-dev:amd64.\n",
            "(Reading database ... 131214 files and directories currently installed.)\n",
            "Preparing to unpack .../libmpc-dev_1.1.0-1_amd64.deb ...\n",
            "Unpacking libmpc-dev:amd64 (1.1.0-1) ...\n",
            "Setting up libmpc-dev:amd64 (1.1.0-1) ...\n",
            "Collecting gmpy2\n",
            "\u001b[?25l  Downloading https://files.pythonhosted.org/packages/90/f4/9a2e384b325b69bc5827b9a6510a8fb4a51698c915c06a3f25a86458892a/gmpy2-2.0.8.zip (280kB)\n",
            "\u001b[K     |████████████████████████████████| 286kB 5.0MB/s \n",
            "\u001b[?25hBuilding wheels for collected packages: gmpy2\n",
            "  Building wheel for gmpy2 (setup.py) ... \u001b[?25l\u001b[?25hdone\n",
            "  Created wheel for gmpy2: filename=gmpy2-2.0.8-cp36-cp36m-linux_x86_64.whl size=456919 sha256=8e7999d7d5bba4aa78ab239e3cc91d034469ce23a995b835d678caee913ee1f7\n",
            "  Stored in directory: /root/.cache/pip/wheels/33/5a/45/b4f58933bc61064f49669220932d1d5bcc0b2a1f762f25ac0e\n",
            "Successfully built gmpy2\n",
            "Installing collected packages: gmpy2\n",
            "Successfully installed gmpy2-2.0.8\n"
          ],
          "name": "stdout"
        }
      ]
    },
    {
      "cell_type": "code",
      "metadata": {
        "id": "yYzC15_RhyM1",
        "colab_type": "code",
        "colab": {}
      },
      "source": [
        "import numpy as np\n",
        "import gmpy2\n",
        "from gmpy2 import mpfr, mpz\n",
        "import matplotlib.pyplot as plt\n",
        "from timeit import default_timer as timer\n",
        "import scipy.stats as sk"
      ],
      "execution_count": 0,
      "outputs": []
    },
    {
      "cell_type": "markdown",
      "metadata": {
        "id": "nYCFKuVBhaOg",
        "colab_type": "text"
      },
      "source": [
        "## The Naive Implementation and Attacks\n",
        "\n",
        "Although the problems with floating-point implementations of mechanisms like the Laplace mechanism are well documented (see [Mironov](https://www.microsoft.com/en-us/research/wp-content/uploads/2012/10/lsbs.pdf) and related works), the exponential mechanism is vulnerable to a different class of attacks which takes advantage of rounding and truncation properties of floating-point arithmetic. Below, we demonstrate two such attacks using a naive implementation (see `naive.py`) of the exponential mechanism which uses `numpy` for arithmetic operations.\n",
        "\n",
        "* Attack 1 takes advantage of rounding behavior and chooses a utility function which rounds all weights but one to 0 if a condition is met.\n",
        "* Attack 2 takes advantage of truncation in addition, and chooses a utility function that always produces positive weights, but the additions are truncated such that some weights are *treated* as if they were zero.\n",
        "\n",
        "\n",
        "**Note:** to demonstrate these attacks, we construct utility functions which take only the outcome as an argument, as the dependence on the database is simple, and this makes the code easier to read. The utility functions `u1` refer to the case when our target, Alice, is in the database, and `u2` refer to the case when she is not."
      ]
    },
    {
      "cell_type": "code",
      "metadata": {
        "id": "b1GYEk68heY1",
        "colab_type": "code",
        "colab": {}
      },
      "source": [
        "from naive import * # Import naive implementation of the exponential mechanism."
      ],
      "execution_count": 0,
      "outputs": []
    },
    {
      "cell_type": "markdown",
      "metadata": {
        "id": "eIWPr8YDhfgF",
        "colab_type": "text"
      },
      "source": [
        "### Attack 1\n",
        "\n",
        "\n",
        "Suppose the attacker wishes to know if Alice is in the database. The attacker designs an outcome space $O=[k]$ and a utility function such that:\n",
        "* If Alice is in the database $u(o_1)=x$ and the utility for all other outcomes is $x+1$. \n",
        "* If Alice is not in the database $u(o_1)=x$ and the utility for all other outcomes is also $x$. \n",
        "\n",
        "(By convention $[n]$ indicates the set of integers $\\{1,2,\\ldots,n\\}$. For outcome spaces, we index the elements of $O$ as $o_{i \\in [|O|]}$.) \n",
        "\n",
        "Notice that the sensitivity of $u$ is $1$ regardless of the choice of $x$. The attacker then sets $x$ such that $\\mathtt{np.exp(-(eps/2)x)}>0$ but $\\mathtt{np.exp(-(eps/2)(x+1))}=0$. Notice that in the case where Alice is in the database, the only viable outcome is $o_1$, but in the case where Alice is not in the database, all elements have equal (and positive) weight, so a random element will be selected. Thus, the attacker drives has distinguishing probability $\\frac{k-1}{k}$ on a single run of the mechanism. "
      ]
    },
    {
      "cell_type": "code",
      "metadata": {
        "id": "uidVZzeMhhib",
        "colab_type": "code",
        "outputId": "b8552ab5-2662-4917-a9e1-6f6babdf2b87",
        "colab": {
          "base_uri": "https://localhost:8080/",
          "height": 68
        }
      },
      "source": [
        "# Choose constants\n",
        "k = 100\n",
        "eps = 0.5\n",
        "\n",
        "# Find x as described in the attack\n",
        "x = 0\n",
        "for i in range(0,4000):\n",
        "  if np.exp(-(eps/2)*i) == 0:\n",
        "    x = i-1\n",
        "    break\n",
        "print(\"x =\",x) \n",
        "\n",
        "# Construct the output space O and two utility functions representing the cases\n",
        "# for each database\n",
        "O = [i for i in range(1,k+1)]\n",
        "u1 = lambda o: x if o == 1 else x+1\n",
        "u2 = lambda o: x\n",
        "\n",
        "# Run 100 trials to test the average output in each case\n",
        "numtrials = 100\n",
        "u1_outcomes = []\n",
        "u2_outcomes = []\n",
        "for i in range(0, numtrials):\n",
        "  u1_outcomes.append( naive_exp_mech(eps,u1,O))\n",
        "  u2_outcomes.append(naive_exp_mech(eps,u2,O))\n",
        "  \n",
        "\n",
        "print(\"u1 average: \", np.average(u1_outcomes))\n",
        "print(\"u2 average: \", np.average(u2_outcomes))"
      ],
      "execution_count": 0,
      "outputs": [
        {
          "output_type": "stream",
          "text": [
            "x = 2980\n",
            "u1 average:  1.0\n",
            "u2 average:  49.92\n"
          ],
          "name": "stdout"
        }
      ]
    },
    {
      "cell_type": "code",
      "metadata": {
        "id": "7hbZt1aAe4g7",
        "colab_type": "code",
        "outputId": "85a3785b-931e-499c-db5e-546b1816e9f7",
        "colab": {
          "base_uri": "https://localhost:8080/",
          "height": 545
        }
      },
      "source": [
        "plt.hist(u1_outcomes)\n",
        "plt.title(\"Outcomes of u1\")\n",
        "plt.show()\n",
        "plt.hist(u2_outcomes)\n",
        "plt.title(\"Outcomes of u2\")\n",
        "plt.show()"
      ],
      "execution_count": 0,
      "outputs": [
        {
          "output_type": "display_data",
          "data": {
            "image/png": "[encoded data removed]",
            "text/plain": [
              "<Figure size 432x288 with 1 Axes>"
            ]
          },
          "metadata": {
            "tags": []
          }
        },
        {
          "output_type": "display_data",
          "data": {
            "image/png": "[encoded data removed]",
            "text/plain": [
              "<Figure size 432x288 with 1 Axes>"
            ]
          },
          "metadata": {
            "tags": []
          }
        }
      ]
    },
    {
      "cell_type": "markdown",
      "metadata": {
        "id": "JjAwm5V1cqE3",
        "colab_type": "text"
      },
      "source": [
        "Notice that the average output when Alice is not in the database (`u2`) is significantly different from the average value when Alice is in the database (`u1`), allowing the attacker to easily determine whether or not Alice's data is included. In particular, if Alice is in the database, *no value other than 1 is ever produced*, as illustrated in the output histograms."
      ]
    },
    {
      "cell_type": "markdown",
      "metadata": {
        "id": "norL828OhiLI",
        "colab_type": "text"
      },
      "source": [
        "### Attack 2\n",
        "\n",
        "\n",
        "To mitigate Attack 1, one might suggest that we add an assertion that each weight is positive. However, this fix can be subverted by taking advantage of truncated addition. That is, if a very small floating point number is added to a very large floating point number, the addition may result in a no-op if there aren't sufficient bits to express the low order bits of the addition result.\n",
        "\n",
        "For example:"
      ]
    },
    {
      "cell_type": "code",
      "metadata": {
        "id": "LKsGcLnwm2kE",
        "colab_type": "code",
        "outputId": "a35d2492-2f88-4b31-b9b1-e9df298c2f91",
        "colab": {
          "base_uri": "https://localhost:8080/",
          "height": 34
        }
      },
      "source": [
        "a = 2**(-30) # a small positive number\n",
        "b = 2**(30)  # a large positive number\n",
        "c = a + b    \n",
        "print(a>0, c==b)  # Despite adding a positive number, the addition is a no-op"
      ],
      "execution_count": 0,
      "outputs": [
        {
          "output_type": "stream",
          "text": [
            "True True\n"
          ],
          "name": "stdout"
        }
      ]
    },
    {
      "cell_type": "markdown",
      "metadata": {
        "id": "VGkVgii2m3An",
        "colab_type": "text"
      },
      "source": [
        "Knowing that small, but positive, weights are truncated in addition, the adversary constructs two utilities $x_l$ and $x_s$ and an outcome space $O=[k]$ such that\n",
        " $$\\mathtt{np.exp(-(eps/2)x_l)} +\\sum_{i \\in [k]}\\mathtt{np.exp(-(eps/2)(x_s+1))}=\\mathtt{np.exp(-(eps/2)x_l)}$$ but  $$\\mathtt{np.exp(-(eps/2)(x_l+1)) }+\\sum_{i \\in [k]}\\mathtt{np.exp(-(eps/2)(x_s))}\\approx \\mathtt{2*np.exp(-(eps/2)(x_l+1))}$$ and assigns utility $u(o_1)=x_l+1$\n",
        " and assigns $u(o_{i>1})=x_s$ if Alice is in the database and $u(o_1)=x_l$ and $u(o_{i>1})=x_s+1$ if Alice is not in the database. (As before, the sensitivity of $u$ is $1$ regardless of the choice of $x_s,x_l$. Notice that if Alice is in the database, the only viable outcome is $o_1$, but if she is not, then $o_1$ is chosen only about half of the time. (Note: of course the adversary could tip the scales further in their favor by increasing $k$.) "
      ]
    },
    {
      "cell_type": "code",
      "metadata": {
        "id": "OTIURmlKfDRB",
        "colab_type": "code",
        "outputId": "70ba29a5-68fa-485e-bd8f-756ef32c6416",
        "colab": {
          "base_uri": "https://localhost:8080/",
          "height": 102
        }
      },
      "source": [
        "eps = 30 # Note: we choose a large epsilon to limit the amount of time searching the space.\n",
        "y = -0.5\n",
        "print(\"y:\",y)\n",
        "ey = np.exp(-(eps/2)*y)\n",
        "#print(ey)\n",
        "for x in range(0,5000):\n",
        "  if (np.exp(-(eps/2)*x) + ey) == ey and np.exp(-(eps/2)*x) > 0:\n",
        "    break\n",
        "\n",
        "print(\"x:\", x)#, np.exp(-(eps/2)*x) )\n",
        "#print(np.exp(-(eps/2)*x) + ey, ey)\n",
        "u1 = lambda o: y if o == 1 else x\n",
        "u2 = lambda o: y+1 if o==1 else x-1 \n",
        "\n",
        "s = np.exp(-(eps/2)*(y+1))\n",
        "t = np.exp(-(eps/2)*(x-1))\n",
        "total = s\n",
        "for k in range(1000,10000):\n",
        "  ratio = t*k/s \n",
        "  if ratio > 1/10:\n",
        "    print(\"k:\",k)\n",
        "    break\n",
        "O = [i for i in range(0,k)]\n",
        "\n",
        "# Run several trials to see difference in outcomes.\n",
        "numtrials = 100\n",
        "u1_outcomes = []\n",
        "u2_outcomes = []\n",
        "for i in range(0, numtrials):\n",
        "  u1_outcomes.append(naive_exp_mech(eps,u1,O))\n",
        "  u2_outcomes.append(naive_exp_mech(eps,u2,O))\n",
        "  \n",
        "\n",
        "print(\"u1 average: \", np.average(u1_outcomes))\n",
        "print(\"u2 average: \", np.average(u2_outcomes))"
      ],
      "execution_count": 0,
      "outputs": [
        {
          "output_type": "stream",
          "text": [
            "y: -0.5\n",
            "x: 2\n",
            "k: 1000\n",
            "u1 average:  1.0\n",
            "u2 average:  208.76\n"
          ],
          "name": "stdout"
        }
      ]
    },
    {
      "cell_type": "code",
      "metadata": {
        "id": "8nqEuqJteis4",
        "colab_type": "code",
        "outputId": "461898d7-bc83-4521-f2e2-4887f122a572",
        "colab": {
          "base_uri": "https://localhost:8080/",
          "height": 545
        }
      },
      "source": [
        "plt.hist(u1_outcomes)\n",
        "plt.title(\"Attack 2: Outcomes of u1\")\n",
        "plt.show()\n",
        "plt.hist(u2_outcomes)\n",
        "plt.title(\"Attack 2: Outcomes of u2\")\n",
        "plt.show()"
      ],
      "execution_count": 0,
      "outputs": [
        {
          "output_type": "display_data",
          "data": {
            "image/png": "[encoded data removed]",
            "text/plain": [
              "<Figure size 432x288 with 1 Axes>"
            ]
          },
          "metadata": {
            "tags": []
          }
        },
        {
          "output_type": "display_data",
          "data": {
            "image/png": "[encoded data removed]",
            "text/plain": [
              "<Figure size 432x288 with 1 Axes>"
            ]
          },
          "metadata": {
            "tags": []
          }
        }
      ]
    },
    {
      "cell_type": "markdown",
      "metadata": {
        "id": "n8wecGnYNbW9",
        "colab_type": "text"
      },
      "source": [
        "Notice that once again, if Alice is in the database, that the only possible output is 1, whereas if Alice is not in the database, a variety of outcomes in $[0,10]$ may be produced. Although the difference is not as dramatic as in Attack 1, this vulnerability can still be exploited by a determined adversary."
      ]
    },
    {
      "cell_type": "markdown",
      "metadata": {
        "id": "JE7xEHr1oynW",
        "colab_type": "text"
      },
      "source": [
        "### Issues with mitigating floating point attacks on inexact arithmetic\n",
        "\n",
        "The troubling property of Attack 2 is that all weights are positive, and one would need to monitor the outcome of each addition in the mechanism to ensure that values are not excessively truncated to try to catch such subversion. However, such monitoring is non-trivial as the additions are not expected to be exactly correct as $e^x$ cannot be expressed exactly in a finite number of bits.\n",
        "One approach is to clamp the allowed utilities to a range in which we can compute additions of the smallest and largest possible weights safely. But how do we decide on such a range, and what is the impact of the inexact computations on privacy (given the vagaries of floating point *division* for weight normalization as well as addition and approximate computations of `np.exp`)?\n",
        "\n",
        "\n",
        "The key problem with declaring a certain range of utilities to be safe is the difficulty in characterizing the privacy loss due to inexact arithmetic. For example, suppose that a range was chosen which has a maximum error on the order of $2^{-k}$. If each individual weight and the total weights are on the order of $2^0$, this error may be negligible from a privacy perspective, but if each individual weight is on the order of $2^{-k}$, it is not. Thus any general guarantee we might give on the privacy loss of the implementation must be pessimistic.\n",
        "Furthermore, the more involved and complete the defenses for such attacks become, the more complicated and difficult to audit the code becomes, increasing the likelihood of errors and those errors being missed under audit. At the risk of belaboring the point, we also note that the number of bits of precision for built in types in certain languages can be set by the compiler further increasing the difficulty of effective auditing."
      ]
    },
    {
      "cell_type": "markdown",
      "metadata": {
        "id": "cQaegnEBhkUQ",
        "colab_type": "text"
      },
      "source": [
        "## The Base-2 Exponential Mechanism\n",
        "To mitigate these problems, we propose thinking about DP in base $2$ rather than base $e$, which translates to a simple change of base:\n",
        "$\\Pr[\\mathcal{M}(d) \\in C] \\leq 2^{\\eta}\\Pr[\\mathcal{M}(d') \\in C]$ from\n",
        "$\\Pr[\\mathcal{M}(d) \\in C] \\leq e^{\\ln(2)\\eta}\\Pr[\\mathcal{M}(d') \\in C]$. \n",
        "\n",
        "With this change of perspective, we can rewrite the probability distribution of  exponential mechanism in base 2 as \n",
        "$p(o) := \\frac{2^{-\\eta u(d, o)}}{\\sum_{o \\in O} 2^{-\\eta u(d,o)}}$.\n",
        "\n",
        "The benefit of this change is that we now have a path to implementing the exponential mechanism *exactly* rather than allowing floating point errors to creep in. Exact arithmetic also allows for more straightforward monitoring of correctness and thus privacy. \n",
        "Although the logic of the implementation is nearly identical to the naive version, showing that the base-2 exponential mechanism can be implemented exactly is not quite as trivial as swapping `np.exp` for `2**x`.\n",
        "There are several components of the implementation and mechanism design:\n",
        "1. Allowing expressive privacy parameters: we show that taking $\\eta \\in \\{-z\\log(\\frac{x}{2^y})\\}$ for integer $x$, $y$ and $z$ such that $\\frac{x}{2^y}<1$ results in an expressive set of privacy parameters such that $2^{-\\eta}$ can be computed exactly with limited precision.\n",
        "2. Handling non-integer utilities via randomized rounding: we show that randomized rounding, i.e. rounding up with probability $p = x - \\lfloor{x}\\rfloor$ and down with probability $1-p$ does not hurt privacy. This allows us to run the mechanism with integer utilities, which makes computing $2^{-\\eta u(d,o)}$ simple.\n",
        "3. Sampling without division: we give a simple method for sampling with normalized probabilities (i.e. $\\frac{1}{\\sum_{o \\in O} 2^{-\\eta u(d,o)}}$) that doesn't require division.\n",
        "See **paper** for complete descriptions of the mechanisms and analysis. \n",
        "\n",
        "### Implementation \n",
        "The base-2 exponential mechanism uses the [`gmpy2`](https://github.com/aleaxit/gmpy) interface to the GNU Multiple Precision Arithmetic Library ([GMP](https://gmplib.org/)) for high-precision binary arithmetic.  See `expmech.py` for code and additional documentation.\n",
        "\n",
        "\n"
      ]
    },
    {
      "cell_type": "code",
      "metadata": {
        "id": "672HzdKfgM0b",
        "colab_type": "code",
        "outputId": "faec40e5-f8a2-448d-9f3c-b49307f9e9bb",
        "colab": {
          "base_uri": "https://localhost:8080/",
          "height": 51
        }
      },
      "source": [
        "# Example usage\n",
        "\n",
        "from expmech import *\n",
        "\n",
        "# Initialize outcomes and utilities\n",
        "u = lambda x : abs(0 - x) # Laplace distribution utility centered at 0\n",
        "\n",
        "# privacy parameters\n",
        "eta_y = 1\n",
        "eta_x = 1\n",
        "eta = -np.log2((eta_x/(2**eta_y)))\n",
        "eps = 2*np.log(2)*(-np.log2((eta_x/(2**eta_y))))\n",
        "print(\"eta = \", eta, \"epsilon = \",eps)\n",
        "\n",
        "# outcome space\n",
        "gamma = 2**(-4)\n",
        "k = 160\n",
        "O = [i*gamma for i in range(-k,k+1)]\n",
        "\n",
        "# random bit generator\n",
        "rng = lambda : np.random.randint(0,2) # np.random is a placeholder for demonstration purposes only\n",
        "\n",
        "# Initialize the mechanism\n",
        "e = ExpMech(rng,eta_x=eta_x,eta_y=eta_y,eta_z=1,u_min=(O[0]*2),u_max=0,max_O=len(O))\n",
        "\n",
        "# set the utility function\n",
        "e.set_utility(u)\n",
        "\n",
        "# run the mechanism\n",
        "result = e.exact_exp_mech(O)\n",
        "print(\"result:\", result)"
      ],
      "execution_count": 0,
      "outputs": [
        {
          "output_type": "stream",
          "text": [
            "eta =  1.0 epsilon =  1.3862943611198906\n",
            "result: 7.1875\n"
          ],
          "name": "stdout"
        }
      ]
    },
    {
      "cell_type": "markdown",
      "metadata": {
        "id": "Qu80lsSgJZD6",
        "colab_type": "text"
      },
      "source": [
        "The base-2 exponential mechanism can also be used to simulate drawing from the Laplace distribution or implementing the discretized Laplace mechanism. We implement the Laplace mechanism as a child class of the Exponential mechanism, which simplifies the semantics significantly."
      ]
    },
    {
      "cell_type": "code",
      "metadata": {
        "id": "ea0i8A6RJYqq",
        "colab_type": "code",
        "outputId": "c301bfa0-a2f5-4c41-c731-1a76e2aeb1df",
        "colab": {
          "base_uri": "https://localhost:8080/",
          "height": 281
        }
      },
      "source": [
        "b_min = -10 # the range of outputs [-10,10] at granularity 2^-4\n",
        "b_max = 10\n",
        "gamma = 2**(-4)\n",
        "eta_z = 1\n",
        "s = 1 # the sensitivity of the function\n",
        "t = np.random.randint(b_min,b_max) # select a random \"target\" value in the range\n",
        "l = LaplaceMech(rng, t, s, eta_x, eta_y, eta_z, b_min,b_max,gamma)\n",
        "n = 100\n",
        "samples = []\n",
        "for i in range(0,n):\n",
        "  samples.append(l.run_mechanism())\n",
        "plt.hist(samples,bins=int(n/10),alpha=0.5)\n",
        "plt.scatter(t,0,marker='o',color='r',label='target')\n",
        "plt.legend()\n",
        "plt.title(\"Samples from the Laplace Mechanism targeting \"+str(t))\n",
        "plt.show()"
      ],
      "execution_count": 0,
      "outputs": [
        {
          "output_type": "display_data",
          "data": {
            "image/png": "[encoded data removed]",
            "text/plain": [
              "<Figure size 432x288 with 1 Axes>"
            ]
          },
          "metadata": {
            "tags": []
          }
        }
      ]
    },
    {
      "cell_type": "markdown",
      "metadata": {
        "id": "0-KKpnpBOlRa",
        "colab_type": "text"
      },
      "source": [
        "### Performance of base-2 vs naive implementation\n",
        "The key question we must address other than privacy is the performance of our mechanism. To demonstrate the difference (in fact, lack of difference) in running time and output distribution of the naive exponential mechanism versus the base-2 exponential mechanism, we use both to simulate the Laplace distribution centered at $0$ and clamped between $[-k\\gamma,k\\gamma]$ with the output range set at granularity $\\gamma$. (Note: one can think of the Laplace mechanism as an infinite outcome space instantiation of the exponential mechanism. See the **paper** for more details.)\n",
        "\n",
        "**Note:** the base-2 mechanism expects the input $\\eta$ to be adjusted such that $\\eta \\ln(2) = \\frac{\\varepsilon}{2}$."
      ]
    },
    {
      "cell_type": "markdown",
      "metadata": {
        "id": "ekNRToUGNCR7",
        "colab_type": "text"
      },
      "source": [
        "First, we show a comparison between the distributions output by the naive implementation of the Laplace mechanism and the base-2 mechanism, which includes randomized rounding."
      ]
    },
    {
      "cell_type": "code",
      "metadata": {
        "id": "QybsG1qbJsBs",
        "colab_type": "code",
        "colab": {}
      },
      "source": [
        "# Get n samples from each of the mechanisms\n",
        "n = 1000\n",
        "util = lambda x : abs(x - t) # Laplace distribution utility\n",
        "O = l.Outcomes\n",
        "b2_results = []\n",
        "naive_results = []\n",
        "for i in range(0,n):\n",
        "  b2_results.append(l.run_mechanism())\n",
        "  naive_results.append(naive_exp_mech(eps,util,O))"
      ],
      "execution_count": 0,
      "outputs": []
    },
    {
      "cell_type": "code",
      "metadata": {
        "id": "sLve1mB7ZwKq",
        "colab_type": "code",
        "outputId": "182db727-61df-4bb1-d176-84e82f745836",
        "colab": {
          "base_uri": "https://localhost:8080/",
          "height": 281
        }
      },
      "source": [
        "# Plot the samples in a histogram\n",
        "bin_set = np.linspace(-10,10,50)\n",
        "plt.hist(naive_results,bins=bin_set,color='r', alpha = 0.5, label='naive')\n",
        "plt.hist(b2_results,bins=bin_set, color='b', alpha = 0.5, label='base2')\n",
        "plt.legend()\n",
        "plt.title(\"base2 vs naive Exp Mechanism\")\n",
        "plt.show()\n"
      ],
      "execution_count": 0,
      "outputs": [
        {
          "output_type": "display_data",
          "data": {
            "image/png": "[encoded data removed]",
            "text/plain": [
              "<Figure size 432x288 with 1 Axes>"
            ]
          },
          "metadata": {
            "tags": []
          }
        }
      ]
    },
    {
      "cell_type": "markdown",
      "metadata": {
        "id": "vICOWo5OZ_Nw",
        "colab_type": "text"
      },
      "source": [
        "Another way of comparing the distributions is the [KS statistic](https://en.wikipedia.org/wiki/Kolmogorov%E2%80%93Smirnov_test), which tests if two distributions are different. In this case, the KS statistic is small, and the p-value large, so we cannot reject the null hypothesis that the distributions are the same."
      ]
    },
    {
      "cell_type": "code",
      "metadata": {
        "id": "nBVqdvLZZ_sh",
        "colab_type": "code",
        "outputId": "d4d3f9fd-de81-40ae-99a3-2b509f95cd0f",
        "colab": {
          "base_uri": "https://localhost:8080/",
          "height": 34
        }
      },
      "source": [
        "sk.ks_2samp(b2_results,naive_results)"
      ],
      "execution_count": 0,
      "outputs": [
        {
          "output_type": "execute_result",
          "data": {
            "text/plain": [
              "Ks_2sampResult(statistic=0.042, pvalue=0.34112475112661245)"
            ]
          },
          "metadata": {
            "tags": []
          },
          "execution_count": 14
        }
      ]
    },
    {
      "cell_type": "markdown",
      "metadata": {
        "id": "WZYoM_f1NOuC",
        "colab_type": "text"
      },
      "source": [
        "#### Theoretical error bounds\n",
        "The difference between the probability distribution of the base-2 mechanism, which uses randomized rounding to guarantee integer utilities, and the un-rounded naive mechanism can also be compared by upper and lower-bounding the probability assigned to each outcome by randomized rounding. Below, we plot a conservative theoretical estimate of the maximum point-wise error on the probability assigned to any given element by the randomized rounding base-2 mechanism compared with the naive mechanism. The maximum error decreases as the granularity increases (smaller $\\gamma$). (See **paper** and `accuracy_comparison.py` for more details).\n",
        "\n",
        "![maximum pointwise error](https://drive.google.com/uc?id=1JLaBfCMOjQnkdZj57xlAuuEW3E6-118j)"
      ]
    },
    {
      "cell_type": "markdown",
      "metadata": {
        "id": "3jBT--ktWFLf",
        "colab_type": "text"
      },
      "source": [
        "#### Running Time\n",
        "With respect to performance, the base-2 mechanism is comparable to the naive mechanism as the number of elements in the output space increases. However, as the range of utilities grows, the base-2 mechanism performs worse than the naive mechanism, as it scales precision to handle a wider range of utilities accurately. Below, we compare timing between running the Laplace mechanism at increasing granularity (more outputs, but the same utility range) versus a discrete output task with increasing utility range and a discrete output task with increasing utility range (but fixed outcome set size) to illustrate these differences . \n",
        "\n",
        "![discrete timing](https://drive.google.com/uc?id=1TsBnZSFRNI-NO2CDJcxDVIBWkNb3tvQP) As the outcome range and utility range increase, the performance of the base-2 mechanism degrades compared with the naive implementation, as it requires higher precision.\n",
        "\n",
        "![utility timing](https://drive.google.com/uc?id=1CQ2y-7w1ooPBjNtC4rmXQ5t8Wq5tZ6vv) Fixing the size of the outcome space and only varying the range of allowed utilties, the difference in performance due to increase precision is clear.\n",
        "\n",
        "![laplace timing](https://drive.google.com/uc?id=1inw6S5cfRlzT8Dnr2b2xFMJbiBmsm8S5) Note that smaller $\\gamma$ indicates increased granularity and therefore a larger outcome space.\n",
        "\n",
        "Although the performance of the base-2 mechanism is impacted by the increased precision, we do note that it is possible to run the mechanism on tens of thousands of possible outcomes with a discrete utility range from $[0, 20000]$ in about twenty minutes on Google's Colaboratory free tier.\n",
        "![extended timing](https://drive.google.com/uc?id=1KN90pfyePe8rC96VUx_ZpkJgiC67ppFZ)"
      ]
    },
    {
      "cell_type": "markdown",
      "metadata": {
        "id": "5Fc8B0jmOssw",
        "colab_type": "text"
      },
      "source": [
        "### Base-2 vs numpy Laplace distribution\n",
        "Of course, if we wish to use the base-2 exponential mechanism to implement the Laplace mechanism, it is also relevant to test against the (vulnerable) implementation of the Laplace distribution provided in `numpy`. In these cases, the running time of the base-2 mechanism or the naive exponential mechanism is significantly slower than the `numpy` version. However, the base-2 mechanism still closely approximates the target distribution.\n"
      ]
    },
    {
      "cell_type": "code",
      "metadata": {
        "id": "mqfh43NdcBUr",
        "colab_type": "code",
        "colab": {}
      },
      "source": [
        "# Get n samples from the numpy laplace implementation\n",
        "f = lambda : t\n",
        "numpy_results =  [naive_laplace(f,1.0,eps) for i in range(0,n)]\n"
      ],
      "execution_count": 0,
      "outputs": []
    },
    {
      "cell_type": "code",
      "metadata": {
        "id": "tsDHWwpHLCnb",
        "colab_type": "code",
        "outputId": "ac75b49f-2726-4a2e-a847-97d78fd9e326",
        "colab": {
          "base_uri": "https://localhost:8080/",
          "height": 281
        }
      },
      "source": [
        "plt.hist(numpy_results,bins=bin_set,color='g', alpha = 0.5, label='numpy laplace')\n",
        "plt.hist(b2_results,bins=bin_set, color='b', alpha = 0.5, label='base2')\n",
        "plt.legend()\n",
        "plt.title(\"base2 vs numpy Laplace\")\n",
        "plt.show()"
      ],
      "execution_count": 0,
      "outputs": [
        {
          "output_type": "display_data",
          "data": {
            "image/png": "[encoded data removed]",
            "text/plain": [
              "<Figure size 432x288 with 1 Axes>"
            ]
          },
          "metadata": {
            "tags": []
          }
        }
      ]
    }
  ]
}
